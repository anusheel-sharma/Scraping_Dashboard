{
 "cells": [
  {
   "cell_type": "code",
   "execution_count": 2,
   "id": "ea0353ac",
   "metadata": {},
   "outputs": [],
   "source": [
    "import pandas as pd\n",
    "import numpy as np\n",
    "import yfinance as yf"
   ]
  },
  {
   "cell_type": "code",
   "execution_count": 51,
   "id": "b22b5c6e",
   "metadata": {},
   "outputs": [],
   "source": [
    "fund = pd.read_parquet('../data/raw/equity_fundamental_data.parquet')"
   ]
  },
  {
   "cell_type": "code",
   "execution_count": null,
   "id": "4f812aca",
   "metadata": {},
   "outputs": [],
   "source": [
    "# spark_process.py\n",
    "from pyspark.sql import SparkSession\n",
    "from pyspark.sql.functions import col, year, month, sum as spark_sum\n",
    "\n",
    "# Start Spark session\n",
    "spark = SparkSession.builder \\\n",
    "    .appName(\"Sales Data Processing\") \\\n",
    "    .getOrCreate()\n",
    "\n",
    "# Read the raw scraped data\n",
    "df = spark.read.parquet(\"raw_sales_data.parquet\")\n",
    "\n",
    "# Add year and month columns\n",
    "df = df.withColumn(\"year\", year(col(\"date\")))\n",
    "df = df.withColumn(\"month\", month(col(\"date\")))\n",
    "\n",
    "# Aggregate sales by category, year, month\n",
    "agg_df = df.groupBy(\"category\", \"year\", \"month\") \\\n",
    "           .agg(spark_sum(\"sales\").alias(\"total_sales\"))\n",
    "\n",
    "# Save to a new Parquet file\n",
    "agg_df.write.mode(\"overwrite\").parquet(\"aggregated_sales.parquet\")\n",
    "\n",
    "spark.stop()\n",
    "print(\"✅ Aggregated data saved.\")\n"
   ]
  }
 ],
 "metadata": {
  "kernelspec": {
   "display_name": "analysis",
   "language": "python",
   "name": "python3"
  },
  "language_info": {
   "codemirror_mode": {
    "name": "ipython",
    "version": 3
   },
   "file_extension": ".py",
   "mimetype": "text/x-python",
   "name": "python",
   "nbconvert_exporter": "python",
   "pygments_lexer": "ipython3",
   "version": "3.11.11"
  }
 },
 "nbformat": 4,
 "nbformat_minor": 5
}
